{
 "cells": [
  {
   "cell_type": "markdown",
   "id": "88fd9149",
   "metadata": {},
   "source": [
    "# Import Numpy as NP"
   ]
  },
  {
   "cell_type": "code",
   "execution_count": 1,
   "id": "53fa5934",
   "metadata": {},
   "outputs": [],
   "source": [
    "import numpy as np"
   ]
  },
  {
   "cell_type": "markdown",
   "id": "c5506678",
   "metadata": {},
   "source": [
    "# Create an array of 10 zero's"
   ]
  },
  {
   "cell_type": "code",
   "execution_count": 3,
   "id": "c11e7f41",
   "metadata": {},
   "outputs": [
    {
     "data": {
      "text/plain": [
       "array([0., 0., 0., 0., 0., 0., 0., 0., 0., 0.])"
      ]
     },
     "execution_count": 3,
     "metadata": {},
     "output_type": "execute_result"
    }
   ],
   "source": [
    "np.zeros(10)"
   ]
  },
  {
   "cell_type": "markdown",
   "id": "d17149fe",
   "metadata": {},
   "source": [
    "# Create an Array of 10 One's"
   ]
  },
  {
   "cell_type": "code",
   "execution_count": 4,
   "id": "285f2c4e",
   "metadata": {},
   "outputs": [
    {
     "data": {
      "text/plain": [
       "array([1., 1., 1., 1., 1., 1., 1., 1., 1., 1.])"
      ]
     },
     "execution_count": 4,
     "metadata": {},
     "output_type": "execute_result"
    }
   ],
   "source": [
    "np.ones(10)"
   ]
  },
  {
   "cell_type": "markdown",
   "id": "82f05d16",
   "metadata": {},
   "source": [
    "# Create an array of 10 fives"
   ]
  },
  {
   "cell_type": "code",
   "execution_count": 7,
   "id": "ceb2f8ad",
   "metadata": {},
   "outputs": [
    {
     "data": {
      "text/plain": [
       "array([5, 5, 5, 5, 5, 5, 5, 5, 5, 5])"
      ]
     },
     "execution_count": 7,
     "metadata": {},
     "output_type": "execute_result"
    }
   ],
   "source": [
    "np.array([5,5,5,5,5,5,5,5,5,5])"
   ]
  },
  {
   "cell_type": "markdown",
   "id": "30fcc106",
   "metadata": {},
   "source": [
    "# Create an Array of numbers 10 to 50"
   ]
  },
  {
   "cell_type": "code",
   "execution_count": 8,
   "id": "70a4b07b",
   "metadata": {},
   "outputs": [
    {
     "data": {
      "text/plain": [
       "array([10, 11, 12, 13, 14, 15, 16, 17, 18, 19, 20, 21, 22, 23, 24, 25, 26,\n",
       "       27, 28, 29, 30, 31, 32, 33, 34, 35, 36, 37, 38, 39, 40, 41, 42, 43,\n",
       "       44, 45, 46, 47, 48, 49, 50])"
      ]
     },
     "execution_count": 8,
     "metadata": {},
     "output_type": "execute_result"
    }
   ],
   "source": [
    "np.arange(10,51)"
   ]
  },
  {
   "cell_type": "markdown",
   "id": "0ea2f520",
   "metadata": {},
   "source": [
    "# Create an Array of even integers from 10-50"
   ]
  },
  {
   "cell_type": "code",
   "execution_count": 9,
   "id": "846b084c",
   "metadata": {},
   "outputs": [
    {
     "data": {
      "text/plain": [
       "array([10, 12, 14, 16, 18, 20, 22, 24, 26, 28, 30, 32, 34, 36, 38, 40, 42,\n",
       "       44, 46, 48, 50])"
      ]
     },
     "execution_count": 9,
     "metadata": {},
     "output_type": "execute_result"
    }
   ],
   "source": [
    "np.arange(10,51,2)"
   ]
  },
  {
   "cell_type": "markdown",
   "id": "b62a41a2",
   "metadata": {},
   "source": [
    "# Create a 3x3 Matrix with values ranging from 0-8"
   ]
  },
  {
   "cell_type": "code",
   "execution_count": 12,
   "id": "c91c4c9c",
   "metadata": {},
   "outputs": [],
   "source": [
    "myMatrix = np.array([[0,1,2],[3,4,5],[6,7,8]])"
   ]
  },
  {
   "cell_type": "code",
   "execution_count": 13,
   "id": "989cc86d",
   "metadata": {},
   "outputs": [
    {
     "data": {
      "text/plain": [
       "array([[0, 1, 2],\n",
       "       [3, 4, 5],\n",
       "       [6, 7, 8]])"
      ]
     },
     "execution_count": 13,
     "metadata": {},
     "output_type": "execute_result"
    }
   ],
   "source": [
    "myMatrix"
   ]
  },
  {
   "cell_type": "markdown",
   "id": "5d71cd36",
   "metadata": {},
   "source": [
    "# Use Numpy to generate a random number from 0-1"
   ]
  },
  {
   "cell_type": "code",
   "execution_count": 14,
   "id": "ffc34955",
   "metadata": {},
   "outputs": [
    {
     "data": {
      "text/plain": [
       "array([0.22940028])"
      ]
     },
     "execution_count": 14,
     "metadata": {},
     "output_type": "execute_result"
    }
   ],
   "source": [
    "np.random.randn(1)"
   ]
  },
  {
   "cell_type": "markdown",
   "id": "dd3fc3f5",
   "metadata": {},
   "source": [
    "# Create a matrix using the following statements:\n",
    "## a. mat = np.arange(1,26).reshape(5)\n",
    "### b. mat"
   ]
  },
  {
   "cell_type": "code",
   "execution_count": 18,
   "id": "ce57a191",
   "metadata": {},
   "outputs": [
    {
     "data": {
      "text/plain": [
       "array([[ 1,  2,  3,  4,  5],\n",
       "       [ 6,  7,  8,  9, 10],\n",
       "       [11, 12, 13, 14, 15],\n",
       "       [16, 17, 18, 19, 20],\n",
       "       [21, 22, 23, 24, 25]])"
      ]
     },
     "execution_count": 18,
     "metadata": {},
     "output_type": "execute_result"
    }
   ],
   "source": [
    "mat = np.arange(1,26).reshape(5,5)\n",
    "mat"
   ]
  },
  {
   "cell_type": "markdown",
   "id": "a2214fdb",
   "metadata": {},
   "source": [
    "# a. Get the sum of all the values in the mat matrix"
   ]
  },
  {
   "cell_type": "code",
   "execution_count": 20,
   "id": "4d4dcd72",
   "metadata": {},
   "outputs": [
    {
     "data": {
      "text/plain": [
       "325"
      ]
     },
     "execution_count": 20,
     "metadata": {},
     "output_type": "execute_result"
    }
   ],
   "source": [
    "mat.sum()"
   ]
  },
  {
   "cell_type": "markdown",
   "id": "ab625ec8",
   "metadata": {},
   "source": [
    "# b. Get the standard deviation of the values in the mat matrix"
   ]
  },
  {
   "cell_type": "code",
   "execution_count": 21,
   "id": "af8d8538",
   "metadata": {},
   "outputs": [
    {
     "data": {
      "text/plain": [
       "7.211102550927978"
      ]
     },
     "execution_count": 21,
     "metadata": {},
     "output_type": "execute_result"
    }
   ],
   "source": [
    "mat.std()"
   ]
  },
  {
   "cell_type": "markdown",
   "id": "89ac331a",
   "metadata": {},
   "source": [
    "# c. Create a new matrix of 25 ones named mat1"
   ]
  },
  {
   "cell_type": "code",
   "execution_count": 23,
   "id": "54642d04",
   "metadata": {},
   "outputs": [
    {
     "data": {
      "text/plain": [
       "array([1., 1., 1., 1., 1., 1., 1., 1., 1., 1., 1., 1., 1., 1., 1., 1., 1.,\n",
       "       1., 1., 1., 1., 1., 1., 1., 1.])"
      ]
     },
     "execution_count": 23,
     "metadata": {},
     "output_type": "execute_result"
    }
   ],
   "source": [
    "mat1 = np.ones(25)\n",
    "mat1"
   ]
  },
  {
   "cell_type": "markdown",
   "id": "c935bba0",
   "metadata": {},
   "source": [
    "# d. Add the values of mat to those of mat1"
   ]
  },
  {
   "cell_type": "code",
   "execution_count": 24,
   "id": "6c98baf4",
   "metadata": {},
   "outputs": [
    {
     "data": {
      "text/plain": [
       "350.0"
      ]
     },
     "execution_count": 24,
     "metadata": {},
     "output_type": "execute_result"
    }
   ],
   "source": [
    "mat.sum() + mat1.sum()"
   ]
  },
  {
   "cell_type": "markdown",
   "id": "c41c505a",
   "metadata": {},
   "source": [
    "# e. Multiply the values of mat to those of mat1"
   ]
  },
  {
   "cell_type": "code",
   "execution_count": 26,
   "id": "5575176f",
   "metadata": {},
   "outputs": [
    {
     "data": {
      "text/plain": [
       "8125.0"
      ]
     },
     "execution_count": 26,
     "metadata": {},
     "output_type": "execute_result"
    }
   ],
   "source": [
    "mat.sum() * mat1.sum()"
   ]
  },
  {
   "cell_type": "code",
   "execution_count": null,
   "id": "f4156b1f",
   "metadata": {},
   "outputs": [],
   "source": []
  }
 ],
 "metadata": {
  "kernelspec": {
   "display_name": "Python 3 (ipykernel)",
   "language": "python",
   "name": "python3"
  },
  "language_info": {
   "codemirror_mode": {
    "name": "ipython",
    "version": 3
   },
   "file_extension": ".py",
   "mimetype": "text/x-python",
   "name": "python",
   "nbconvert_exporter": "python",
   "pygments_lexer": "ipython3",
   "version": "3.9.7"
  }
 },
 "nbformat": 4,
 "nbformat_minor": 5
}
